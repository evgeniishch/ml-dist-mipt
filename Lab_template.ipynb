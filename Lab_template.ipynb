{
 "cells": [
  {
   "cell_type": "markdown",
   "id": "30450e42-b916-497e-b0cd-bb965d81b5be",
   "metadata": {},
   "source": [
    "# Лабораторная работа 1\n",
    "### Выполнил: ФИО"
   ]
  },
  {
   "cell_type": "markdown",
   "id": "970a6982-e449-4e57-919d-1dcb6492c684",
   "metadata": {},
   "source": [
    "Добро пожаловать в лабораторную работу! \n",
    "Оформите ваше решение контеста Kaggle в соответствии с этим шаблоном. Ваша задача - показать проверяющим ход ваших рассуждений, поэтому советуем писать много комментариев к коду и приводить комментарии к логике на каждом этапе в текстовых ячейках. \n",
    "Где необходимо, используйте графики для большей наглядности."
   ]
  },
  {
   "cell_type": "markdown",
   "id": "f98eaf96-7d8b-4dbf-80f1-1c8bb5c86452",
   "metadata": {},
   "source": [
    "При отправке поменяйте название файла на ваши ФИО!"
   ]
  },
  {
   "cell_type": "markdown",
   "id": "19a9c839-ae08-49e7-a54c-13084737b7ff",
   "metadata": {},
   "source": [
    "### EDA (исследовательский анализ данных)"
   ]
  },
  {
   "cell_type": "markdown",
   "id": "ce6d1797-da8a-44ad-a487-8cd89b35b054",
   "metadata": {},
   "source": [
    "В этом разделе вам необходимо провести анализ вашего датасета, интерпретировать признаки, выяснить их значимость и исследовать зависимости между ними."
   ]
  },
  {
   "cell_type": "code",
   "execution_count": 10,
   "id": "a8aef4d1-bab2-42ae-9e69-1e27ab603dbb",
   "metadata": {},
   "outputs": [],
   "source": [
    "# exploratory data analysis"
   ]
  },
  {
   "cell_type": "markdown",
   "id": "160af548-c186-443a-9f6b-35373b9de9cc",
   "metadata": {},
   "source": [
    "### Preprocessing (подготовка данных)"
   ]
  },
  {
   "cell_type": "markdown",
   "id": "2dc5c679-39ad-4365-a7c8-0c65ea7dd670",
   "metadata": {},
   "source": [
    " В этом разделе вам необходимо реализовать подготовку ваших данных, в том числе заполнение пропусков, фильтрацию выбросов, кодирование категориальных признаков и т.д. В этот же раздел включите любые операции над данными, которые сочтете нужными."
   ]
  },
  {
   "cell_type": "code",
   "execution_count": 11,
   "id": "bf9f8d01-e025-42c6-bb43-5a36f45f5c19",
   "metadata": {},
   "outputs": [],
   "source": [
    "# preprocessing pipeline"
   ]
  },
  {
   "cell_type": "markdown",
   "id": "8479a893-758a-48ce-a654-d3b7ac26d1fb",
   "metadata": {},
   "source": [
    "### Model & training (Выбор модели и её обучение)"
   ]
  },
  {
   "cell_type": "markdown",
   "id": "05d8b94b-06f2-44ea-a6b4-96bc9e7de76f",
   "metadata": {},
   "source": [
    "В этом разделе описываете модель и ставите эксперименты по обучению.\n",
    "\n",
    "Если вы ставили много экспериментов, приведите их в хронологическом порядке чтобы мы увидели эволюцию ваших рассуждений."
   ]
  },
  {
   "cell_type": "markdown",
   "id": "4d87d736-4628-4fab-ae88-ac0189a159bd",
   "metadata": {},
   "source": [
    "#### Эксперимент 1"
   ]
  },
  {
   "cell_type": "code",
   "execution_count": 9,
   "id": "0b469536-9415-4c86-9784-3dbada62c28c",
   "metadata": {},
   "outputs": [],
   "source": [
    "# some code and comments"
   ]
  },
  {
   "cell_type": "markdown",
   "id": "63ad46c8-d632-4476-a438-b9318bb0fbc8",
   "metadata": {},
   "source": [
    "#### Эксперимент 2"
   ]
  },
  {
   "cell_type": "code",
   "execution_count": 9,
   "id": "91ff3bbf-7ecc-4b58-8d28-b6cf64afed39",
   "metadata": {},
   "outputs": [],
   "source": [
    "# some code and comments"
   ]
  },
  {
   "cell_type": "markdown",
   "id": "c26becfd-c285-411c-80b1-daf27d7f701a",
   "metadata": {},
   "source": [
    "#### Эксперимент 3"
   ]
  },
  {
   "cell_type": "code",
   "execution_count": 9,
   "id": "adc78697-8682-4c0c-8caf-db4e14788907",
   "metadata": {},
   "outputs": [],
   "source": [
    "# some code and comments"
   ]
  },
  {
   "cell_type": "markdown",
   "id": "2951c100-0ab9-4900-915d-30a200970c45",
   "metadata": {},
   "source": [
    "### Evaluation (оценка качества модели)"
   ]
  },
  {
   "cell_type": "markdown",
   "id": "0d648625-3c46-4e2c-ac1a-e96335a65e54",
   "metadata": {},
   "source": [
    "В этом разделе проводите оценку качества вашей итоговой модели. "
   ]
  },
  {
   "cell_type": "code",
   "execution_count": 13,
   "id": "f1667a6c-5b1f-4288-bdf5-1d671178126a",
   "metadata": {},
   "outputs": [],
   "source": [
    "# model evaluation"
   ]
  },
  {
   "cell_type": "markdown",
   "id": "4495c17d-912b-42ea-9536-4b668d6a22d4",
   "metadata": {},
   "source": [
    "### Conclusion (Выводы)"
   ]
  },
  {
   "cell_type": "markdown",
   "id": "70b88756-3945-4729-b58f-b779bf55b45e",
   "metadata": {},
   "source": [
    "В этом разделе описываете полученные результаты и проводите анализ выполненной работы. \n",
    "Что получилось / не получилось и почему?"
   ]
  },
  {
   "cell_type": "code",
   "execution_count": null,
   "id": "4b7af2ca-a2df-48a8-b115-37ceb51f2f08",
   "metadata": {},
   "outputs": [],
   "source": []
  }
 ],
 "metadata": {
  "kernelspec": {
   "display_name": "Python 3 (ipykernel)",
   "language": "python",
   "name": "python3"
  },
  "language_info": {
   "codemirror_mode": {
    "name": "ipython",
    "version": 3
   },
   "file_extension": ".py",
   "mimetype": "text/x-python",
   "name": "python",
   "nbconvert_exporter": "python",
   "pygments_lexer": "ipython3",
   "version": "3.10.11"
  }
 },
 "nbformat": 4,
 "nbformat_minor": 5
}
